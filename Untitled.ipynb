{
 "cells": [
  {
   "cell_type": "markdown",
   "metadata": {},
   "source": [
    "# Overview\n",
    "\n",
    "This notebook provides a high-level overview of what we are trying to achieve.\n",
    "\n",
    "## Workflow Goals\n",
    "\n",
    "1. Discritize continuous point cloud observation locations $P(x,y,z)$ into discrete voxels $V(i,j,k)$.\n",
    "\n",
    "1. Determine surface elevation, $E(i,j)$, for each voxel\n",
    "\n",
    "1. Create a `DEM` of surface based on $E(i,j)$ field. \n",
    "\n",
    "1. Cluster $P(r,g,b)$ data into $N$ categories. Goal is to isolate \"soil/stem\" and \"canopy\" elements, as well as shadowed areas.\n",
    "\n",
    "1. Determine point density and cluster membership density for each voxel.\n"
   ]
  },
  {
   "cell_type": "markdown",
   "metadata": {},
   "source": [
    "## Generate a random field for example purposes "
   ]
  },
  {
   "cell_type": "code",
   "execution_count": null,
   "metadata": {},
   "outputs": [],
   "source": []
  }
 ],
 "metadata": {
  "kernelspec": {
   "display_name": "Python [conda env:sfm]",
   "language": "python",
   "name": "conda-env-sfm-py"
  },
  "language_info": {
   "codemirror_mode": {
    "name": "ipython",
    "version": 3
   },
   "file_extension": ".py",
   "mimetype": "text/x-python",
   "name": "python",
   "nbconvert_exporter": "python",
   "pygments_lexer": "ipython3",
   "version": "3.6.6"
  }
 },
 "nbformat": 4,
 "nbformat_minor": 2
}

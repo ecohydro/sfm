{
 "cells": [
  {
   "cell_type": "markdown",
   "metadata": {},
   "source": [
    "# Exploring some numpy tricks for use in pointcloud analysis\n",
    "\n",
    "This notebook takes a look at how we might use [dask](https://dask.org) in our pointcloud analyses. \n"
   ]
  },
  {
   "cell_type": "code",
   "execution_count": 1,
   "metadata": {},
   "outputs": [],
   "source": [
    "filename = 'uhnb1_con_b_c_xyz.csv'"
   ]
  },
  {
   "cell_type": "code",
   "execution_count": 12,
   "metadata": {},
   "outputs": [],
   "source": [
    "import numpy as np\n",
    "import pandas as pd\n",
    "import xarray as xr\n",
    "import dask.dataframe as dd\n",
    "import dask.array as da"
   ]
  },
  {
   "cell_type": "code",
   "execution_count": 181,
   "metadata": {},
   "outputs": [],
   "source": [
    "# df = dd.read_csv(filename)\n",
    "n_points = 1000000\n",
    "pcloud_np = da.random.uniform(0.0, 100.0, size=(n_points,3), chunks=(1000,3))"
   ]
  },
  {
   "cell_type": "markdown",
   "metadata": {},
   "source": [
    "### Generate a new, transposed array\n",
    "\n",
    "This array will contain only a list of all the `X` values and a list of all the `Y` values.\n",
    "\n",
    "Uses the [np.T](https://docs.scipy.org/doc/numpy/reference/generated/numpy.ndarray.T.html) command"
   ]
  },
  {
   "cell_type": "markdown",
   "metadata": {},
   "source": [
    "### Discritize the array into the desired resolution"
   ]
  },
  {
   "cell_type": "code",
   "execution_count": 182,
   "metadata": {},
   "outputs": [],
   "source": [
    "resolution = 1 # Target resolution in meters.\n",
    "xy = pcloud_np.T[:2]\n",
    "xy = ((xy + resolution / 2) // resolution).astype(int)"
   ]
  },
  {
   "cell_type": "markdown",
   "metadata": {},
   "source": [
    "### Find the min and max values"
   ]
  },
  {
   "cell_type": "code",
   "execution_count": 183,
   "metadata": {},
   "outputs": [],
   "source": [
    "mn, mx = xy.min(axis=1), xy.max(axis=1)\n",
    "sz = mx + 1 - mn"
   ]
  },
  {
   "cell_type": "code",
   "execution_count": 184,
   "metadata": {},
   "outputs": [
    {
     "name": "stderr",
     "output_type": "stream",
     "text": [
      "/Users/kellycaylor/anaconda3/envs/sfm/lib/python3.6/site-packages/ipykernel/__main__.py:5: PerformanceWarning: Slicing with an out-of-order index is generating 999 times more chunks\n"
     ]
    }
   ],
   "source": [
    "# Map the xy locations into a single index for faster access\n",
    "flatidx = np.ravel_multi_index(xy-mn[:, None], sz.compute())\n",
    "# Sort the index values, returning sorted index locations, not values\n",
    "z_order = np.argsort(flatidx)\n",
    "z_reordered = pcloud_np[z_order,2] # This is generating a PerformanceWarning because we are slicing out of order.\n",
    "sorted_idx = flatidx[z_order]\n",
    "bin_boundaries = np.where(sorted_idx[:-1] != sorted_idx[1:])[0]"
   ]
  },
  {
   "cell_type": "code",
   "execution_count": 185,
   "metadata": {},
   "outputs": [
    {
     "name": "stdout",
     "output_type": "stream",
     "text": [
      "Min Heights: average: 1.05, max:19.51, min: 0.00\n",
      "Max Heights: average:98.95, max:100.00, min:83.75\n"
     ]
    }
   ],
   "source": [
    "max_height = np.maximum.reduceat(z_reordered.compute(), bin_boundaries)\n",
    "min_height = np.minimum.reduceat(z_reordered.compute(), bin_boundaries)\n",
    "print(\"Min Heights: average:{avg:5.2f}, max:{maximum:5.2f}, min:{minimum:5.2f}\".format(\n",
    "    avg=min_height.mean(),\n",
    "    maximum=min_height.max(),\n",
    "    minimum=min_height.min())\n",
    "     )\n",
    "print(\"Max Heights: average:{avg:5.2f}, max:{maximum:5.2f}, min:{minimum:5.2f}\".format(\n",
    "    avg=max_height.mean(),\n",
    "    maximum=max_height.max(),\n",
    "    minimum=max_height.min())\n",
    "     )"
   ]
  },
  {
   "cell_type": "code",
   "execution_count": 107,
   "metadata": {},
   "outputs": [
    {
     "name": "stdout",
     "output_type": "stream",
     "text": [
      "[ 619 1255 1241 1233 1282 1262 1214 1288 1236 1222 1307 1277 1284 1234\n",
      " 1287 1277 1263 1228 1135 1220  617 1248 2457 2498 2418 2462 2474 2483\n",
      " 2503 2482 2435 2498 2441 2499 2562 2506 2503 2456 2511 2439 2447 1229\n",
      " 1258 2429 2520 2491 2545 2445 2554 2481 2558 2494 2533 2451 2550 2371\n",
      " 2487 2593 2471 2544 2468 2517 1300 1290 2383 2497 2393 2452 2562 2470\n",
      " 2421 2459 2448 2477 2516 2409 2443 2520 2506 2436 2478 2544 2536 1211\n",
      " 1219 2454 2593 2528 2542 2473 2562 2408 2489 2480 2412 2512 2456 2488\n",
      " 2415 2472 2580 2514 2470 2483 1243 1276 2496 2525 2555 2500 2463 2369\n",
      " 2534 2491 2471 2519 2439 2504 2568 2504 2495 2453 2505 2478 2527 1253\n",
      " 1245 2464 2542 2430 2562 2483 2458 2443 2498 2558 2503 2527 2398 2443\n",
      " 2582 2496 2456 2478 2600 2517 1208 1271 2531 2501 2491 2460 2479 2647\n",
      " 2451 2411 2494 2428 2603 2515 2502 2563 2508 2443 2534 2443 2531 1238\n",
      " 1241 2456 2493 2554 2522 2528 2546 2460 2505 2483 2537 2489 2515 2518\n",
      " 2603 2571 2514 2522 2500 2510 1256 1261 2515 2482 2565 2525 2464 2593\n",
      " 2525 2507 2528 2491 2457 2528 2454 2512 2525 2495 2570 2497 2465 1245\n",
      " 1280 2558 2545 2489 2480 2451 2466 2522 2511 2528 2504 2440 2485 2541\n",
      " 2527 2457 2512 2453 2509 2529 1262 1318 2508 2490 2545 2532 2545 2562\n",
      " 2562 2380 2480 2446 2507 2465 2468 2476 2534 2546 2515 2485 2524 1189\n",
      " 1201 2480 2528 2539 2547 2553 2482 2626 2466 2512 2502 2421 2548 2457\n",
      " 2470 2478 2474 2514 2511 2500 1269 1215 2497 2550 2464 2442 2595 2376\n",
      " 2482 2504 2460 2489 2479 2528 2573 2591 2519 2446 2525 2511 2549 1258\n",
      " 1276 2516 2466 2469 2477 2407 2573 2468 2633 2502 2496 2501 2523 2547\n",
      " 2510 2463 2530 2501 2584 2439 1329 1224 2484 2533 2546 2554 2521 2535\n",
      " 2446 2518 2501 2501 2342 2554 2445 2496 2534 2540 2482 2516 2456 1200\n",
      " 1294 2518 2471 2482 2428 2515 2475 2466 2435 2459 2605 2599 2545 2524\n",
      " 2496 2468 2544 2450 2496 2493 1324 1262 2501 2466 2518 2518 2483 2465\n",
      " 2517 2534 2552 2513 2522 2611 2457 2492 2529 2559 2430 2364 2485 1269\n",
      " 1255 2518 2526 2515 2483 2495 2519 2548 2529 2507 2489 2451 2471 2537\n",
      " 2620 2435 2524 2470 2460 2538 1272 1185 2544 2466 2472 2511 2548 2466\n",
      " 2426 2451 2568 2490 2490 2526 2533 2593 2585 2592 2542 2392 2460 1231\n",
      "  608 1300 1252 1272 1308 1228 1291 1191 1251 1288 1278 1258 1253 1210\n",
      " 1247 1260 1255 1232 1276 1215  542]\n"
     ]
    }
   ],
   "source": [
    "histo = (np.bincount(flatidx, pcloud_np[:, 2], sz.prod().compute()) / \n",
    "         np.maximum(1, np.bincount(flatidx, None, sz.prod().compute()))\n",
    "        )"
   ]
  },
  {
   "cell_type": "code",
   "execution_count": null,
   "metadata": {},
   "outputs": [],
   "source": []
  }
 ],
 "metadata": {
  "kernelspec": {
   "display_name": "Python [conda env:sfm]",
   "language": "python",
   "name": "conda-env-sfm-py"
  },
  "language_info": {
   "codemirror_mode": {
    "name": "ipython",
    "version": 3
   },
   "file_extension": ".py",
   "mimetype": "text/x-python",
   "name": "python",
   "nbconvert_exporter": "python",
   "pygments_lexer": "ipython3",
   "version": "3.6.8"
  }
 },
 "nbformat": 4,
 "nbformat_minor": 2
}

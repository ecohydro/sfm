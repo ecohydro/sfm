{
 "cells": [
  {
   "cell_type": "markdown",
   "metadata": {},
   "source": [
    "# Exploring some numpy tricks for use in pointcloud analysis\n",
    "\n",
    "This notebook takes a look at how we might use [dask](https://dask.org) in our pointcloud analyses. \n"
   ]
  },
  {
   "cell_type": "code",
   "execution_count": 204,
   "metadata": {},
   "outputs": [],
   "source": [
    "filename = 'uhnb1_con_b_c_xyz.csv'"
   ]
  },
  {
   "cell_type": "code",
   "execution_count": 187,
   "metadata": {},
   "outputs": [],
   "source": [
    "import numpy as np\n",
    "import pandas as pd\n",
    "import xarray as xr\n",
    "import dask.dataframe as dd\n",
    "import dask.array as da\n",
    "import pptk"
   ]
  },
  {
   "cell_type": "code",
   "execution_count": 207,
   "metadata": {},
   "outputs": [],
   "source": [
    "df = dd.read_csv(filename)\n",
    "pcloud_np = df.to_dask_array()\n",
    "#n_points = 10000000\n",
    "#pcloud_np = da.random.uniform(0.0, 100.0, size=(n_points,3), chunks=(1000,3))"
   ]
  },
  {
   "cell_type": "markdown",
   "metadata": {},
   "source": [
    "### Generate a new, transposed array\n",
    "\n",
    "This array will contain only a list of all the `X` values and a list of all the `Y` values.\n",
    "\n",
    "Uses the [np.T](https://docs.scipy.org/doc/numpy/reference/generated/numpy.ndarray.T.html) command"
   ]
  },
  {
   "cell_type": "markdown",
   "metadata": {},
   "source": [
    "### Discritize the array into the desired resolution"
   ]
  },
  {
   "cell_type": "code",
   "execution_count": 216,
   "metadata": {},
   "outputs": [],
   "source": [
    "resolution = .2 # Target resolution in meters.\n",
    "xy = pcloud_np.T[:2]\n",
    "xy = ((xy + resolution / 2) // resolution).astype(int)"
   ]
  },
  {
   "cell_type": "markdown",
   "metadata": {},
   "source": [
    "### Find the min and max values"
   ]
  },
  {
   "cell_type": "code",
   "execution_count": 217,
   "metadata": {},
   "outputs": [],
   "source": [
    "mn, mx = xy.min(axis=1), xy.max(axis=1)\n",
    "sz = mx + 1 - mn"
   ]
  },
  {
   "cell_type": "code",
   "execution_count": 218,
   "metadata": {},
   "outputs": [],
   "source": [
    "# Map the xy locations into a single index for faster access\n",
    "flatidx = np.ravel_multi_index(xy-mn[:, None], sz.compute())\n",
    "# Sort the index values, returning sorted index locations, not values\n",
    "z_order = np.argsort(flatidx)\n",
    "z_reordered = pcloud_np[z_order,2]\n",
    "sorted_idx = flatidx[z_order]\n",
    "bin_boundaries = np.where(sorted_idx[:-1] != sorted_idx[1:])[0]"
   ]
  },
  {
   "cell_type": "code",
   "execution_count": 219,
   "metadata": {},
   "outputs": [
    {
     "name": "stdout",
     "output_type": "stream",
     "text": [
      "Min Heights: average: 0.59, max: 7.74, min:-0.01\n",
      "Max Heights: average: 0.75, max: 7.97, min: 0.00\n"
     ]
    }
   ],
   "source": [
    "max_height = np.maximum.reduceat(z_reordered.compute(), bin_boundaries)\n",
    "min_height = np.minimum.reduceat(z_reordered.compute(), bin_boundaries)\n",
    "print(\"Min Heights: average:{avg:5.2f}, max:{maximum:5.2f}, min:{minimum:5.2f}\".format(\n",
    "    avg=min_height.mean(),\n",
    "    maximum=min_height.max(),\n",
    "    minimum=min_height.min())\n",
    "     )\n",
    "print(\"Max Heights: average:{avg:5.2f}, max:{maximum:5.2f}, min:{minimum:5.2f}\".format(\n",
    "    avg=max_height.mean(),\n",
    "    maximum=max_height.max(),\n",
    "    minimum=max_height.min())\n",
    "     )"
   ]
  },
  {
   "cell_type": "code",
   "execution_count": 215,
   "metadata": {},
   "outputs": [
    {
     "data": {
      "text/plain": [
       "(10357,)"
      ]
     },
     "execution_count": 215,
     "metadata": {},
     "output_type": "execute_result"
    }
   ],
   "source": []
  },
  {
   "cell_type": "code",
   "execution_count": 220,
   "metadata": {},
   "outputs": [],
   "source": [
    "v = pptk.viewer(pcloud_np)\n",
    "v.set(point_size=0.001)"
   ]
  },
  {
   "cell_type": "code",
   "execution_count": null,
   "metadata": {},
   "outputs": [],
   "source": []
  }
 ],
 "metadata": {
  "kernelspec": {
   "display_name": "Python [conda env:sfm]",
   "language": "python",
   "name": "conda-env-sfm-py"
  },
  "language_info": {
   "codemirror_mode": {
    "name": "ipython",
    "version": 3
   },
   "file_extension": ".py",
   "mimetype": "text/x-python",
   "name": "python",
   "nbconvert_exporter": "python",
   "pygments_lexer": "ipython3",
   "version": "3.6.8"
  }
 },
 "nbformat": 4,
 "nbformat_minor": 2
}

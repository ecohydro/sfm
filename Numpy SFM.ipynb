{
 "cells": [
  {
   "cell_type": "markdown",
   "metadata": {},
   "source": [
    "# Exploring some numpy tricks for use in pointcloud analysis\n",
    "\n",
    "This notebook takes a look at how we might use [dask](https://dask.org) in our pointcloud analyses. \n"
   ]
  },
  {
   "cell_type": "code",
   "execution_count": 2,
   "metadata": {},
   "outputs": [],
   "source": [
    "filename = 'uhuru_s_b3_total_gcps_group1_densified_point_cloud.xyz'"
   ]
  },
  {
   "cell_type": "code",
   "execution_count": 3,
   "metadata": {},
   "outputs": [],
   "source": [
    "import numpy as np\n",
    "import pandas as pd\n",
    "# import xarray as xr\n",
    "import dask.dataframe as dd\n",
    "import dask.array as da\n",
    "import multiprocessing\n",
    "# import dask.array as da\n",
    "# import pptk\n",
    "from PDAL import PDAL"
   ]
  },
  {
   "cell_type": "code",
   "execution_count": 4,
   "metadata": {},
   "outputs": [],
   "source": [
    "# from dask.distributed import Client\n",
    "# client = Client()  # start local workers as processes"
   ]
  },
  {
   "cell_type": "code",
   "execution_count": 6,
   "metadata": {},
   "outputs": [
    {
     "name": "stdout",
     "output_type": "stream",
     "text": [
      "CPU times: user 658 ms, sys: 116 ms, total: 774 ms\n",
      "Wall time: 6.79 s\n"
     ]
    }
   ],
   "source": [
    "%%time\n",
    "blocksize = 100e6\n",
    "df = dd.read_csv(filename, blocksize=blocksize)\n",
    "pcloud_np = df.to_dask_array(lengths=True)\n",
    "xy = pcloud_np.T[:2]\n",
    "xy = xy.T"
   ]
  },
  {
   "cell_type": "markdown",
   "metadata": {},
   "source": [
    "## Find the ConvexHull that surrounds these points"
   ]
  },
  {
   "cell_type": "markdown",
   "metadata": {},
   "source": [
    "## Now iterate through the ConvexHull points to find the minimum bounding rectangle"
   ]
  },
  {
   "cell_type": "code",
   "execution_count": 8,
   "metadata": {},
   "outputs": [],
   "source": [
    "import numpy as np\n",
    "from scipy.spatial import ConvexHull\n",
    "\n",
    "def minimum_bounding_rectangle(points):\n",
    "    \"\"\"\n",
    "    Find the smallest bounding rectangle for a set of points.\n",
    "    Returns a set of points representing the corners of the bounding box.\n",
    "\n",
    "    :param points: an nx2 matrix of coordinates\n",
    "    :rval: an nx2 matrix of coordinates\n",
    "    \"\"\"\n",
    "    from scipy.ndimage.interpolation import rotate\n",
    "    pi2 = np.pi/2.\n",
    "\n",
    "    # get the convex hull for the points\n",
    "    hull_points = points[ConvexHull(points).vertices]\n",
    "\n",
    "    # calculate edge angles\n",
    "    edges = np.zeros((len(hull_points)-1, 2))\n",
    "    edges = hull_points[1:] - hull_points[:-1]\n",
    "\n",
    "    angles = np.zeros((len(edges)))\n",
    "    angles = np.arctan2(edges[:, 1], edges[:, 0])\n",
    "\n",
    "    angles = np.abs(np.mod(angles, pi2))\n",
    "    angles = np.unique(angles)\n",
    "\n",
    "    # find rotation matrices\n",
    "    rotations = np.vstack([\n",
    "        np.cos(angles),\n",
    "        np.cos(angles-pi2),\n",
    "        np.cos(angles+pi2),\n",
    "        np.cos(angles)]).T\n",
    "\n",
    "    rotations = rotations.reshape((-1, 2, 2))\n",
    "\n",
    "    # apply rotations to the hull\n",
    "    rot_points = np.dot(rotations, hull_points.T)\n",
    "\n",
    "    # find the bounding points\n",
    "    min_x = np.nanmin(rot_points[:, 0], axis=1)\n",
    "    max_x = np.nanmax(rot_points[:, 0], axis=1)\n",
    "    min_y = np.nanmin(rot_points[:, 1], axis=1)\n",
    "    max_y = np.nanmax(rot_points[:, 1], axis=1)\n",
    "\n",
    "    # find the box with the best area\n",
    "    areas = (max_x - min_x) * (max_y - min_y)\n",
    "    best_idx = np.argmin(areas)\n",
    "\n",
    "    # return the best box\n",
    "    x1 = max_x[best_idx]\n",
    "    x2 = min_x[best_idx]\n",
    "    y1 = max_y[best_idx]\n",
    "    y2 = min_y[best_idx]\n",
    "    r = rotations[best_idx]\n",
    "\n",
    "    rval = np.zeros((4, 2))\n",
    "    rval[0] = np.dot([x1, y2], r)\n",
    "    rval[1] = np.dot([x2, y2], r)\n",
    "    rval[2] = np.dot([x2, y1], r)\n",
    "    rval[3] = np.dot([x1, y1], r)\n",
    "    \n",
    "    return rval"
   ]
  },
  {
   "cell_type": "code",
   "execution_count": 9,
   "metadata": {},
   "outputs": [
    {
     "name": "stdout",
     "output_type": "stream",
     "text": [
      "CPU times: user 6.37 s, sys: 1.55 s, total: 7.92 s\n",
      "Wall time: 20.7 s\n"
     ]
    }
   ],
   "source": [
    "%%time\n",
    "corners = minimum_bounding_rectangle(xy)"
   ]
  },
  {
   "cell_type": "markdown",
   "metadata": {},
   "source": [
    "### Using these four corners, we can now determine the rotation and translation matricies"
   ]
  },
  {
   "cell_type": "code",
   "execution_count": 10,
   "metadata": {},
   "outputs": [],
   "source": [
    "from PDAL import PDAL\n",
    "\n",
    "r_mat = np.array(PDAL.rotation_matrix(corners, dim=2))\n",
    "t_mat = np.array(PDAL.translation_matrix(corners, dim=2))\n",
    "angle = PDAL.rotation_angle(corners, unit='degrees')\n",
    "ll = np.array(PDAL.lower_left(corners))"
   ]
  },
  {
   "cell_type": "markdown",
   "metadata": {},
   "source": [
    "### Let's create a lamdba function to generate x' and y'"
   ]
  },
  {
   "cell_type": "code",
   "execution_count": 11,
   "metadata": {},
   "outputs": [],
   "source": [
    "def t(x,y):\n",
    "    return da.matmul(t_mat,da.matmul(r_mat,[x, y, 1]))[0:2]"
   ]
  },
  {
   "cell_type": "code",
   "execution_count": null,
   "metadata": {},
   "outputs": [],
   "source": [
    "%%time\n",
    "tdata = df.map_partitions(lambda df: df.apply((lambda row: t(row.X, row.Y)), axis=1))\\\n",
    ".compute(scheduler='processes')"
   ]
  },
  {
   "cell_type": "markdown",
   "metadata": {},
   "source": [
    "### Pre-processing Steps\n",
    "\n",
    "1. Perform an affine transformation on the data so that the lower left corner is in the origin, and the data is orthogonal\n",
    "1. Build an r-tree for spatial mapping\n",
    "1. Use tree to thin points based on nearest neighbor distance "
   ]
  },
  {
   "cell_type": "markdown",
   "metadata": {},
   "source": [
    "### Generate a new, transposed array\n",
    "\n",
    "This array will contain only a list of all the `X` values and a list of all the `Y` values.\n",
    "\n",
    "Uses the [np.T](https://docs.scipy.org/doc/numpy/reference/generated/numpy.ndarray.T.html) command"
   ]
  },
  {
   "cell_type": "markdown",
   "metadata": {},
   "source": [
    "### Discritize the array into the desired resolution"
   ]
  },
  {
   "cell_type": "code",
   "execution_count": null,
   "metadata": {},
   "outputs": [],
   "source": [
    "resolution = .2 # Target resolution in meters.\n",
    "xy = pcloud_np.T[:2]\n",
    "xy = ((xy + resolution / 2) // resolution).astype(int)"
   ]
  },
  {
   "cell_type": "markdown",
   "metadata": {},
   "source": [
    "### Find the min and max values"
   ]
  },
  {
   "cell_type": "code",
   "execution_count": null,
   "metadata": {},
   "outputs": [],
   "source": [
    "mn, mx = xy.min(axis=1), xy.max(axis=1)\n",
    "sz = mx + 1 - mn"
   ]
  },
  {
   "cell_type": "code",
   "execution_count": null,
   "metadata": {},
   "outputs": [],
   "source": [
    "# Map the xy locations into a single index for faster access\n",
    "flatidx = np.ravel_multi_index(xy-mn[:, None], sz.compute())\n",
    "# Sort the index values, returning sorted index locations, not values\n",
    "z_order = np.argsort(flatidx)\n",
    "\n",
    "z_reordered = pcloud_np[z_order,2]\n",
    "sorted_idx = flatidx[z_order]\n",
    "bin_boundaries = np.where(sorted_idx[:-1] != sorted_idx[1:])[0]"
   ]
  },
  {
   "cell_type": "code",
   "execution_count": null,
   "metadata": {},
   "outputs": [],
   "source": [
    "max_height = np.maximum.reduceat(z_reordered.compute(), bin_boundaries)\n",
    "min_height = np.minimum.reduceat(z_reordered.compute(), bin_boundaries)\n",
    "print(\"Min Heights: average:{avg:5.2f}, max:{maximum:5.2f}, min:{minimum:5.2f}\".format(\n",
    "    avg=min_height.mean(),\n",
    "    maximum=min_height.max(),\n",
    "    minimum=min_height.min())\n",
    "     )\n",
    "print(\"Max Heights: average:{avg:5.2f}, max:{maximum:5.2f}, min:{minimum:5.2f}\".format(\n",
    "    avg=max_height.mean(),\n",
    "    maximum=max_height.max(),\n",
    "    minimum=max_height.min())\n",
    "     )"
   ]
  },
  {
   "cell_type": "code",
   "execution_count": null,
   "metadata": {},
   "outputs": [],
   "source": [
    "v = pptk.viewer(pcloud_np)\n",
    "v.set(point_size=0.001)"
   ]
  }
 ],
 "metadata": {
  "kernelspec": {
   "display_name": "Python 3",
   "language": "python",
   "name": "python3"
  },
  "language_info": {
   "codemirror_mode": {
    "name": "ipython",
    "version": 3
   },
   "file_extension": ".py",
   "mimetype": "text/x-python",
   "name": "python",
   "nbconvert_exporter": "python",
   "pygments_lexer": "ipython3",
   "version": "3.5.5"
  }
 },
 "nbformat": 4,
 "nbformat_minor": 4
}
